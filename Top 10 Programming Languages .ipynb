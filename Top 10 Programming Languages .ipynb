{
 "cells": [
  {
   "cell_type": "code",
   "execution_count": 11,
   "metadata": {},
   "outputs": [],
   "source": [
    "import pandas as pd\n",
    "from pandas import DataFrame "
   ]
  },
  {
   "cell_type": "code",
   "execution_count": 12,
   "metadata": {},
   "outputs": [],
   "source": [
    "df = DataFrame"
   ]
  },
  {
   "cell_type": "code",
   "execution_count": 13,
   "metadata": {},
   "outputs": [],
   "source": [
    "df = pd.read_csv(r\"C:\\Users\\Sett's Wife\\Desktop\\Data Analysis\\Certificates\\IBM Data Analyst Professional Certificate edX\\Course 9 Data Analytics and Visualization Capstone Project\\Module 5 How to Present Your Findings\\Data\\New folder\\Languages2.csv\")"
   ]
  },
  {
   "cell_type": "code",
   "execution_count": 14,
   "metadata": {},
   "outputs": [
    {
     "data": {
      "text/html": [
       "<div>\n",
       "<style scoped>\n",
       "    .dataframe tbody tr th:only-of-type {\n",
       "        vertical-align: middle;\n",
       "    }\n",
       "\n",
       "    .dataframe tbody tr th {\n",
       "        vertical-align: top;\n",
       "    }\n",
       "\n",
       "    .dataframe thead th {\n",
       "        text-align: right;\n",
       "    }\n",
       "</style>\n",
       "<table border=\"1\" class=\"dataframe\">\n",
       "  <thead>\n",
       "    <tr style=\"text-align: right;\">\n",
       "      <th></th>\n",
       "      <th>Unnamed: 0</th>\n",
       "      <th>No</th>\n",
       "      <th>Respondent</th>\n",
       "      <th>LanguageDesireNextYear</th>\n",
       "      <th>LanguageWorkedWith</th>\n",
       "    </tr>\n",
       "  </thead>\n",
       "  <tbody>\n",
       "    <tr>\n",
       "      <th>0</th>\n",
       "      <td>0</td>\n",
       "      <td>0.000000</td>\n",
       "      <td>0.000154</td>\n",
       "      <td>HTML/CSS</td>\n",
       "      <td>HTML/CSS</td>\n",
       "    </tr>\n",
       "    <tr>\n",
       "      <th>1</th>\n",
       "      <td>1</td>\n",
       "      <td>0.000007</td>\n",
       "      <td>0.000154</td>\n",
       "      <td>HTML/CSS</td>\n",
       "      <td>Java</td>\n",
       "    </tr>\n",
       "    <tr>\n",
       "      <th>2</th>\n",
       "      <td>2</td>\n",
       "      <td>0.000014</td>\n",
       "      <td>0.000154</td>\n",
       "      <td>HTML/CSS</td>\n",
       "      <td>JavaScript</td>\n",
       "    </tr>\n",
       "    <tr>\n",
       "      <th>3</th>\n",
       "      <td>3</td>\n",
       "      <td>0.000020</td>\n",
       "      <td>0.000154</td>\n",
       "      <td>HTML/CSS</td>\n",
       "      <td>Python</td>\n",
       "    </tr>\n",
       "    <tr>\n",
       "      <th>4</th>\n",
       "      <td>4</td>\n",
       "      <td>0.000027</td>\n",
       "      <td>0.000154</td>\n",
       "      <td>HTML/CSS</td>\n",
       "      <td>SQL</td>\n",
       "    </tr>\n",
       "    <tr>\n",
       "      <th>...</th>\n",
       "      <td>...</td>\n",
       "      <td>...</td>\n",
       "      <td>...</td>\n",
       "      <td>...</td>\n",
       "      <td>...</td>\n",
       "    </tr>\n",
       "    <tr>\n",
       "      <th>44324</th>\n",
       "      <td>44324</td>\n",
       "      <td>0.999850</td>\n",
       "      <td>1.000000</td>\n",
       "      <td>Go</td>\n",
       "      <td>Ruby</td>\n",
       "    </tr>\n",
       "    <tr>\n",
       "      <th>44325</th>\n",
       "      <td>44325</td>\n",
       "      <td>0.999857</td>\n",
       "      <td>1.000000</td>\n",
       "      <td>Go</td>\n",
       "      <td>SQL</td>\n",
       "    </tr>\n",
       "    <tr>\n",
       "      <th>44326</th>\n",
       "      <td>44326</td>\n",
       "      <td>0.999864</td>\n",
       "      <td>1.000000</td>\n",
       "      <td>Python</td>\n",
       "      <td>SQL</td>\n",
       "    </tr>\n",
       "    <tr>\n",
       "      <th>44327</th>\n",
       "      <td>44327</td>\n",
       "      <td>0.999932</td>\n",
       "      <td>1.000000</td>\n",
       "      <td>R</td>\n",
       "      <td>SQL</td>\n",
       "    </tr>\n",
       "    <tr>\n",
       "      <th>44328</th>\n",
       "      <td>44328</td>\n",
       "      <td>1.000000</td>\n",
       "      <td>1.000000</td>\n",
       "      <td>SQL</td>\n",
       "      <td>SQL</td>\n",
       "    </tr>\n",
       "  </tbody>\n",
       "</table>\n",
       "<p>44329 rows × 5 columns</p>\n",
       "</div>"
      ],
      "text/plain": [
       "       Unnamed: 0        No  Respondent LanguageDesireNextYear  \\\n",
       "0               0  0.000000    0.000154               HTML/CSS   \n",
       "1               1  0.000007    0.000154               HTML/CSS   \n",
       "2               2  0.000014    0.000154               HTML/CSS   \n",
       "3               3  0.000020    0.000154               HTML/CSS   \n",
       "4               4  0.000027    0.000154               HTML/CSS   \n",
       "...           ...       ...         ...                    ...   \n",
       "44324       44324  0.999850    1.000000                     Go   \n",
       "44325       44325  0.999857    1.000000                     Go   \n",
       "44326       44326  0.999864    1.000000                 Python   \n",
       "44327       44327  0.999932    1.000000                      R   \n",
       "44328       44328  1.000000    1.000000                    SQL   \n",
       "\n",
       "      LanguageWorkedWith  \n",
       "0               HTML/CSS  \n",
       "1                   Java  \n",
       "2             JavaScript  \n",
       "3                 Python  \n",
       "4                    SQL  \n",
       "...                  ...  \n",
       "44324               Ruby  \n",
       "44325                SQL  \n",
       "44326                SQL  \n",
       "44327                SQL  \n",
       "44328                SQL  \n",
       "\n",
       "[44329 rows x 5 columns]"
      ]
     },
     "execution_count": 14,
     "metadata": {},
     "output_type": "execute_result"
    }
   ],
   "source": [
    "df"
   ]
  },
  {
   "cell_type": "code",
   "execution_count": 15,
   "metadata": {},
   "outputs": [
    {
     "data": {
      "text/html": [
       "<div>\n",
       "<style scoped>\n",
       "    .dataframe tbody tr th:only-of-type {\n",
       "        vertical-align: middle;\n",
       "    }\n",
       "\n",
       "    .dataframe tbody tr th {\n",
       "        vertical-align: top;\n",
       "    }\n",
       "\n",
       "    .dataframe thead th {\n",
       "        text-align: right;\n",
       "    }\n",
       "</style>\n",
       "<table border=\"1\" class=\"dataframe\">\n",
       "  <thead>\n",
       "    <tr style=\"text-align: right;\">\n",
       "      <th></th>\n",
       "      <th>Unnamed: 0</th>\n",
       "      <th>No</th>\n",
       "      <th>Respondent</th>\n",
       "      <th>LanguageDesireNextYear</th>\n",
       "      <th>LanguageWorkedWith</th>\n",
       "    </tr>\n",
       "  </thead>\n",
       "  <tbody>\n",
       "    <tr>\n",
       "      <th>0</th>\n",
       "      <td>0</td>\n",
       "      <td>0.000000</td>\n",
       "      <td>0.000154</td>\n",
       "      <td>HTML/CSS</td>\n",
       "      <td>HTML/CSS</td>\n",
       "    </tr>\n",
       "    <tr>\n",
       "      <th>1</th>\n",
       "      <td>1</td>\n",
       "      <td>0.000007</td>\n",
       "      <td>0.000154</td>\n",
       "      <td>HTML/CSS</td>\n",
       "      <td>Java</td>\n",
       "    </tr>\n",
       "    <tr>\n",
       "      <th>2</th>\n",
       "      <td>2</td>\n",
       "      <td>0.000014</td>\n",
       "      <td>0.000154</td>\n",
       "      <td>HTML/CSS</td>\n",
       "      <td>JavaScript</td>\n",
       "    </tr>\n",
       "    <tr>\n",
       "      <th>3</th>\n",
       "      <td>3</td>\n",
       "      <td>0.000020</td>\n",
       "      <td>0.000154</td>\n",
       "      <td>HTML/CSS</td>\n",
       "      <td>Python</td>\n",
       "    </tr>\n",
       "    <tr>\n",
       "      <th>4</th>\n",
       "      <td>4</td>\n",
       "      <td>0.000027</td>\n",
       "      <td>0.000154</td>\n",
       "      <td>HTML/CSS</td>\n",
       "      <td>SQL</td>\n",
       "    </tr>\n",
       "  </tbody>\n",
       "</table>\n",
       "</div>"
      ],
      "text/plain": [
       "   Unnamed: 0        No  Respondent LanguageDesireNextYear LanguageWorkedWith\n",
       "0           0  0.000000    0.000154               HTML/CSS           HTML/CSS\n",
       "1           1  0.000007    0.000154               HTML/CSS               Java\n",
       "2           2  0.000014    0.000154               HTML/CSS         JavaScript\n",
       "3           3  0.000020    0.000154               HTML/CSS             Python\n",
       "4           4  0.000027    0.000154               HTML/CSS                SQL"
      ]
     },
     "execution_count": 15,
     "metadata": {},
     "output_type": "execute_result"
    }
   ],
   "source": [
    "df.head()"
   ]
  },
  {
   "cell_type": "code",
   "execution_count": 16,
   "metadata": {},
   "outputs": [
    {
     "data": {
      "text/html": [
       "<div>\n",
       "<style scoped>\n",
       "    .dataframe tbody tr th:only-of-type {\n",
       "        vertical-align: middle;\n",
       "    }\n",
       "\n",
       "    .dataframe tbody tr th {\n",
       "        vertical-align: top;\n",
       "    }\n",
       "\n",
       "    .dataframe thead th {\n",
       "        text-align: right;\n",
       "    }\n",
       "</style>\n",
       "<table border=\"1\" class=\"dataframe\">\n",
       "  <thead>\n",
       "    <tr style=\"text-align: right;\">\n",
       "      <th></th>\n",
       "      <th>Unnamed: 0</th>\n",
       "      <th>No</th>\n",
       "      <th>Respondent</th>\n",
       "      <th>LanguageDesireNextYear</th>\n",
       "      <th>LanguageWorkedWith</th>\n",
       "    </tr>\n",
       "  </thead>\n",
       "  <tbody>\n",
       "    <tr>\n",
       "      <th>44324</th>\n",
       "      <td>44324</td>\n",
       "      <td>0.999850</td>\n",
       "      <td>1.0</td>\n",
       "      <td>Go</td>\n",
       "      <td>Ruby</td>\n",
       "    </tr>\n",
       "    <tr>\n",
       "      <th>44325</th>\n",
       "      <td>44325</td>\n",
       "      <td>0.999857</td>\n",
       "      <td>1.0</td>\n",
       "      <td>Go</td>\n",
       "      <td>SQL</td>\n",
       "    </tr>\n",
       "    <tr>\n",
       "      <th>44326</th>\n",
       "      <td>44326</td>\n",
       "      <td>0.999864</td>\n",
       "      <td>1.0</td>\n",
       "      <td>Python</td>\n",
       "      <td>SQL</td>\n",
       "    </tr>\n",
       "    <tr>\n",
       "      <th>44327</th>\n",
       "      <td>44327</td>\n",
       "      <td>0.999932</td>\n",
       "      <td>1.0</td>\n",
       "      <td>R</td>\n",
       "      <td>SQL</td>\n",
       "    </tr>\n",
       "    <tr>\n",
       "      <th>44328</th>\n",
       "      <td>44328</td>\n",
       "      <td>1.000000</td>\n",
       "      <td>1.0</td>\n",
       "      <td>SQL</td>\n",
       "      <td>SQL</td>\n",
       "    </tr>\n",
       "  </tbody>\n",
       "</table>\n",
       "</div>"
      ],
      "text/plain": [
       "       Unnamed: 0        No  Respondent LanguageDesireNextYear  \\\n",
       "44324       44324  0.999850         1.0                     Go   \n",
       "44325       44325  0.999857         1.0                     Go   \n",
       "44326       44326  0.999864         1.0                 Python   \n",
       "44327       44327  0.999932         1.0                      R   \n",
       "44328       44328  1.000000         1.0                    SQL   \n",
       "\n",
       "      LanguageWorkedWith  \n",
       "44324               Ruby  \n",
       "44325                SQL  \n",
       "44326                SQL  \n",
       "44327                SQL  \n",
       "44328                SQL  "
      ]
     },
     "execution_count": 16,
     "metadata": {},
     "output_type": "execute_result"
    }
   ],
   "source": [
    "df.tail()"
   ]
  },
  {
   "cell_type": "code",
   "execution_count": 17,
   "metadata": {},
   "outputs": [
    {
     "data": {
      "text/plain": [
       "0"
      ]
     },
     "execution_count": 17,
     "metadata": {},
     "output_type": "execute_result"
    }
   ],
   "source": [
    "df.duplicated().sum()"
   ]
  },
  {
   "cell_type": "code",
   "execution_count": 18,
   "metadata": {},
   "outputs": [
    {
     "data": {
      "text/plain": [
       "Unnamed: 0                0\n",
       "No                        0\n",
       "Respondent                0\n",
       "LanguageDesireNextYear    0\n",
       "LanguageWorkedWith        0\n",
       "dtype: int64"
      ]
     },
     "execution_count": 18,
     "metadata": {},
     "output_type": "execute_result"
    }
   ],
   "source": [
    "df.isnull().sum()"
   ]
  },
  {
   "cell_type": "code",
   "execution_count": 19,
   "metadata": {},
   "outputs": [
    {
     "data": {
      "text/plain": [
       "TypeScript               10223\n",
       "SQL                       9314\n",
       "JavaScript                4288\n",
       "HTML/CSS                  3451\n",
       "Python                    2693\n",
       "C#                        2109\n",
       "Bash/Shell/PowerShell     1934\n",
       "VBA                       1721\n",
       "Java                      1587\n",
       "PHP                       1431\n",
       "Swift                      777\n",
       "C++                        694\n",
       "Ruby                       615\n",
       "Scala                      582\n",
       "C                          573\n",
       "Go                         552\n",
       "Kotlin                     422\n",
       "Rust                       298\n",
       "R                          278\n",
       "Objective-C                218\n",
       "Dart                       196\n",
       "Assembly                   147\n",
       "Perl                       126\n",
       "Haskell                     76\n",
       "Julia                       24\n",
       "Name: LanguageWorkedWith, dtype: int64"
      ]
     },
     "execution_count": 19,
     "metadata": {},
     "output_type": "execute_result"
    }
   ],
   "source": [
    "df[\"LanguageWorkedWith\"].value_counts()"
   ]
  },
  {
   "cell_type": "code",
   "execution_count": 20,
   "metadata": {},
   "outputs": [
    {
     "data": {
      "text/plain": [
       "Bash/Shell/PowerShell    8727\n",
       "C#                       6666\n",
       "HTML/CSS                 4001\n",
       "Go                       3707\n",
       "JavaScript               3353\n",
       "Python                   2625\n",
       "TypeScript               2364\n",
       "SQL                      2294\n",
       "Dart                     1399\n",
       "Java                     1297\n",
       "C++                      1127\n",
       "Rust                     1105\n",
       "C                        1010\n",
       "Kotlin                    942\n",
       "Assembly                  851\n",
       "PHP                       569\n",
       "Swift                     456\n",
       "Ruby                      439\n",
       "Haskell                   403\n",
       "Scala                     329\n",
       "R                         312\n",
       "Julia                     124\n",
       "Objective-C               105\n",
       "Perl                       69\n",
       "VBA                        55\n",
       "Name: LanguageDesireNextYear, dtype: int64"
      ]
     },
     "execution_count": 20,
     "metadata": {},
     "output_type": "execute_result"
    }
   ],
   "source": [
    "df[\"LanguageDesireNextYear\"].value_counts()"
   ]
  }
 ],
 "metadata": {
  "kernelspec": {
   "display_name": "Python 3",
   "language": "python",
   "name": "python3"
  },
  "language_info": {
   "codemirror_mode": {
    "name": "ipython",
    "version": 3
   },
   "file_extension": ".py",
   "mimetype": "text/x-python",
   "name": "python",
   "nbconvert_exporter": "python",
   "pygments_lexer": "ipython3",
   "version": "3.8.5"
  }
 },
 "nbformat": 4,
 "nbformat_minor": 4
}
