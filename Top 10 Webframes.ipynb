{
 "cells": [
  {
   "cell_type": "code",
   "execution_count": 2,
   "metadata": {},
   "outputs": [],
   "source": [
    "import pandas as pd\n",
    "from pandas import DataFrame"
   ]
  },
  {
   "cell_type": "code",
   "execution_count": 3,
   "metadata": {},
   "outputs": [],
   "source": [
    "df = DataFrame"
   ]
  },
  {
   "cell_type": "code",
   "execution_count": 4,
   "metadata": {},
   "outputs": [],
   "source": [
    "df = pd.read_csv(r\"C:\\Users\\Sett's Wife\\Desktop\\Data Analysis\\Certificates\\IBM Data Analyst Professional Certificate edX\\Course 9 Data Analytics and Visualization Capstone Project\\Module 5 How to Present Your Findings\\Data\\New folder\\Data Wrangling\\panel 4\\Webframe.csv\")"
   ]
  },
  {
   "cell_type": "code",
   "execution_count": 5,
   "metadata": {},
   "outputs": [
    {
     "data": {
      "text/html": [
       "<div>\n",
       "<style scoped>\n",
       "    .dataframe tbody tr th:only-of-type {\n",
       "        vertical-align: middle;\n",
       "    }\n",
       "\n",
       "    .dataframe tbody tr th {\n",
       "        vertical-align: top;\n",
       "    }\n",
       "\n",
       "    .dataframe thead th {\n",
       "        text-align: right;\n",
       "    }\n",
       "</style>\n",
       "<table border=\"1\" class=\"dataframe\">\n",
       "  <thead>\n",
       "    <tr style=\"text-align: right;\">\n",
       "      <th></th>\n",
       "      <th>Unnamed: 0</th>\n",
       "      <th>Respondent</th>\n",
       "      <th>WebframeDesireNextYear</th>\n",
       "      <th>WebframeWorkedWith</th>\n",
       "    </tr>\n",
       "  </thead>\n",
       "  <tbody>\n",
       "    <tr>\n",
       "      <th>0</th>\n",
       "      <td>0</td>\n",
       "      <td>10</td>\n",
       "      <td>Flask</td>\n",
       "      <td>Flask</td>\n",
       "    </tr>\n",
       "    <tr>\n",
       "      <th>1</th>\n",
       "      <td>1</td>\n",
       "      <td>10</td>\n",
       "      <td>NaN</td>\n",
       "      <td>jQuery</td>\n",
       "    </tr>\n",
       "    <tr>\n",
       "      <th>2</th>\n",
       "      <td>2</td>\n",
       "      <td>10</td>\n",
       "      <td>jQuery</td>\n",
       "      <td>NaN</td>\n",
       "    </tr>\n",
       "    <tr>\n",
       "      <th>3</th>\n",
       "      <td>4</td>\n",
       "      <td>33</td>\n",
       "      <td>Express</td>\n",
       "      <td>Angular</td>\n",
       "    </tr>\n",
       "    <tr>\n",
       "      <th>4</th>\n",
       "      <td>5</td>\n",
       "      <td>33</td>\n",
       "      <td>NaN</td>\n",
       "      <td>Angular.js</td>\n",
       "    </tr>\n",
       "    <tr>\n",
       "      <th>...</th>\n",
       "      <td>...</td>\n",
       "      <td>...</td>\n",
       "      <td>...</td>\n",
       "      <td>...</td>\n",
       "    </tr>\n",
       "    <tr>\n",
       "      <th>22789</th>\n",
       "      <td>47562</td>\n",
       "      <td>64938</td>\n",
       "      <td>Django</td>\n",
       "      <td>Django</td>\n",
       "    </tr>\n",
       "    <tr>\n",
       "      <th>22790</th>\n",
       "      <td>47563</td>\n",
       "      <td>64938</td>\n",
       "      <td>NaN</td>\n",
       "      <td>Flask</td>\n",
       "    </tr>\n",
       "    <tr>\n",
       "      <th>22791</th>\n",
       "      <td>47564</td>\n",
       "      <td>64938</td>\n",
       "      <td>NaN</td>\n",
       "      <td>Ruby on Rails</td>\n",
       "    </tr>\n",
       "    <tr>\n",
       "      <th>22792</th>\n",
       "      <td>47565</td>\n",
       "      <td>64938</td>\n",
       "      <td>NaN</td>\n",
       "      <td>jQuery</td>\n",
       "    </tr>\n",
       "    <tr>\n",
       "      <th>22793</th>\n",
       "      <td>47566</td>\n",
       "      <td>64938</td>\n",
       "      <td>Flask</td>\n",
       "      <td>NaN</td>\n",
       "    </tr>\n",
       "  </tbody>\n",
       "</table>\n",
       "<p>22794 rows × 4 columns</p>\n",
       "</div>"
      ],
      "text/plain": [
       "       Unnamed: 0  Respondent WebframeDesireNextYear WebframeWorkedWith\n",
       "0               0          10                  Flask              Flask\n",
       "1               1          10                    NaN             jQuery\n",
       "2               2          10                 jQuery                NaN\n",
       "3               4          33                Express            Angular\n",
       "4               5          33                    NaN         Angular.js\n",
       "...           ...         ...                    ...                ...\n",
       "22789       47562       64938                 Django             Django\n",
       "22790       47563       64938                    NaN              Flask\n",
       "22791       47564       64938                    NaN      Ruby on Rails\n",
       "22792       47565       64938                    NaN             jQuery\n",
       "22793       47566       64938                  Flask                NaN\n",
       "\n",
       "[22794 rows x 4 columns]"
      ]
     },
     "execution_count": 5,
     "metadata": {},
     "output_type": "execute_result"
    }
   ],
   "source": [
    "df"
   ]
  },
  {
   "cell_type": "code",
   "execution_count": 6,
   "metadata": {},
   "outputs": [
    {
     "data": {
      "text/plain": [
       "(22794, 4)"
      ]
     },
     "execution_count": 6,
     "metadata": {},
     "output_type": "execute_result"
    }
   ],
   "source": [
    "df.shape"
   ]
  },
  {
   "cell_type": "code",
   "execution_count": 7,
   "metadata": {},
   "outputs": [
    {
     "data": {
      "text/plain": [
       "0        False\n",
       "1        False\n",
       "2        False\n",
       "3        False\n",
       "4        False\n",
       "         ...  \n",
       "22789    False\n",
       "22790    False\n",
       "22791    False\n",
       "22792    False\n",
       "22793    False\n",
       "Length: 22794, dtype: bool"
      ]
     },
     "execution_count": 7,
     "metadata": {},
     "output_type": "execute_result"
    }
   ],
   "source": [
    "df.duplicated()"
   ]
  },
  {
   "cell_type": "code",
   "execution_count": 8,
   "metadata": {},
   "outputs": [],
   "source": [
    "df = df.drop_duplicates()"
   ]
  },
  {
   "cell_type": "code",
   "execution_count": 9,
   "metadata": {},
   "outputs": [
    {
     "data": {
      "text/html": [
       "<div>\n",
       "<style scoped>\n",
       "    .dataframe tbody tr th:only-of-type {\n",
       "        vertical-align: middle;\n",
       "    }\n",
       "\n",
       "    .dataframe tbody tr th {\n",
       "        vertical-align: top;\n",
       "    }\n",
       "\n",
       "    .dataframe thead th {\n",
       "        text-align: right;\n",
       "    }\n",
       "</style>\n",
       "<table border=\"1\" class=\"dataframe\">\n",
       "  <thead>\n",
       "    <tr style=\"text-align: right;\">\n",
       "      <th></th>\n",
       "      <th>Unnamed: 0</th>\n",
       "      <th>Respondent</th>\n",
       "      <th>WebframeDesireNextYear</th>\n",
       "      <th>WebframeWorkedWith</th>\n",
       "    </tr>\n",
       "  </thead>\n",
       "  <tbody>\n",
       "    <tr>\n",
       "      <th>0</th>\n",
       "      <td>0</td>\n",
       "      <td>10</td>\n",
       "      <td>Flask</td>\n",
       "      <td>Flask</td>\n",
       "    </tr>\n",
       "    <tr>\n",
       "      <th>1</th>\n",
       "      <td>1</td>\n",
       "      <td>10</td>\n",
       "      <td>NaN</td>\n",
       "      <td>jQuery</td>\n",
       "    </tr>\n",
       "    <tr>\n",
       "      <th>2</th>\n",
       "      <td>2</td>\n",
       "      <td>10</td>\n",
       "      <td>jQuery</td>\n",
       "      <td>NaN</td>\n",
       "    </tr>\n",
       "    <tr>\n",
       "      <th>3</th>\n",
       "      <td>4</td>\n",
       "      <td>33</td>\n",
       "      <td>Express</td>\n",
       "      <td>Angular</td>\n",
       "    </tr>\n",
       "    <tr>\n",
       "      <th>4</th>\n",
       "      <td>5</td>\n",
       "      <td>33</td>\n",
       "      <td>NaN</td>\n",
       "      <td>Angular.js</td>\n",
       "    </tr>\n",
       "    <tr>\n",
       "      <th>...</th>\n",
       "      <td>...</td>\n",
       "      <td>...</td>\n",
       "      <td>...</td>\n",
       "      <td>...</td>\n",
       "    </tr>\n",
       "    <tr>\n",
       "      <th>22789</th>\n",
       "      <td>47562</td>\n",
       "      <td>64938</td>\n",
       "      <td>Django</td>\n",
       "      <td>Django</td>\n",
       "    </tr>\n",
       "    <tr>\n",
       "      <th>22790</th>\n",
       "      <td>47563</td>\n",
       "      <td>64938</td>\n",
       "      <td>NaN</td>\n",
       "      <td>Flask</td>\n",
       "    </tr>\n",
       "    <tr>\n",
       "      <th>22791</th>\n",
       "      <td>47564</td>\n",
       "      <td>64938</td>\n",
       "      <td>NaN</td>\n",
       "      <td>Ruby on Rails</td>\n",
       "    </tr>\n",
       "    <tr>\n",
       "      <th>22792</th>\n",
       "      <td>47565</td>\n",
       "      <td>64938</td>\n",
       "      <td>NaN</td>\n",
       "      <td>jQuery</td>\n",
       "    </tr>\n",
       "    <tr>\n",
       "      <th>22793</th>\n",
       "      <td>47566</td>\n",
       "      <td>64938</td>\n",
       "      <td>Flask</td>\n",
       "      <td>NaN</td>\n",
       "    </tr>\n",
       "  </tbody>\n",
       "</table>\n",
       "<p>22794 rows × 4 columns</p>\n",
       "</div>"
      ],
      "text/plain": [
       "       Unnamed: 0  Respondent WebframeDesireNextYear WebframeWorkedWith\n",
       "0               0          10                  Flask              Flask\n",
       "1               1          10                    NaN             jQuery\n",
       "2               2          10                 jQuery                NaN\n",
       "3               4          33                Express            Angular\n",
       "4               5          33                    NaN         Angular.js\n",
       "...           ...         ...                    ...                ...\n",
       "22789       47562       64938                 Django             Django\n",
       "22790       47563       64938                    NaN              Flask\n",
       "22791       47564       64938                    NaN      Ruby on Rails\n",
       "22792       47565       64938                    NaN             jQuery\n",
       "22793       47566       64938                  Flask                NaN\n",
       "\n",
       "[22794 rows x 4 columns]"
      ]
     },
     "execution_count": 9,
     "metadata": {},
     "output_type": "execute_result"
    }
   ],
   "source": [
    "df"
   ]
  },
  {
   "cell_type": "code",
   "execution_count": 11,
   "metadata": {},
   "outputs": [],
   "source": [
    "import numpy as np"
   ]
  },
  {
   "cell_type": "code",
   "execution_count": 12,
   "metadata": {},
   "outputs": [
    {
     "data": {
      "text/plain": [
       "Unnamed: 0                None\n",
       "Respondent                None\n",
       "WebframeDesireNextYear    None\n",
       "WebframeWorkedWith        None\n",
       "dtype: object"
      ]
     },
     "execution_count": 12,
     "metadata": {},
     "output_type": "execute_result"
    }
   ],
   "source": [
    "df.replace(np.nan, inplace = True)"
   ]
  },
  {
   "cell_type": "code",
   "execution_count": 13,
   "metadata": {},
   "outputs": [
    {
     "data": {
      "text/html": [
       "<div>\n",
       "<style scoped>\n",
       "    .dataframe tbody tr th:only-of-type {\n",
       "        vertical-align: middle;\n",
       "    }\n",
       "\n",
       "    .dataframe tbody tr th {\n",
       "        vertical-align: top;\n",
       "    }\n",
       "\n",
       "    .dataframe thead th {\n",
       "        text-align: right;\n",
       "    }\n",
       "</style>\n",
       "<table border=\"1\" class=\"dataframe\">\n",
       "  <thead>\n",
       "    <tr style=\"text-align: right;\">\n",
       "      <th></th>\n",
       "      <th>Unnamed: 0</th>\n",
       "      <th>Respondent</th>\n",
       "      <th>WebframeDesireNextYear</th>\n",
       "      <th>WebframeWorkedWith</th>\n",
       "    </tr>\n",
       "  </thead>\n",
       "  <tbody>\n",
       "    <tr>\n",
       "      <th>0</th>\n",
       "      <td>0</td>\n",
       "      <td>10</td>\n",
       "      <td>Flask</td>\n",
       "      <td>Flask</td>\n",
       "    </tr>\n",
       "    <tr>\n",
       "      <th>1</th>\n",
       "      <td>1</td>\n",
       "      <td>10</td>\n",
       "      <td>Flask</td>\n",
       "      <td>jQuery</td>\n",
       "    </tr>\n",
       "    <tr>\n",
       "      <th>2</th>\n",
       "      <td>2</td>\n",
       "      <td>10</td>\n",
       "      <td>jQuery</td>\n",
       "      <td>jQuery</td>\n",
       "    </tr>\n",
       "    <tr>\n",
       "      <th>3</th>\n",
       "      <td>4</td>\n",
       "      <td>33</td>\n",
       "      <td>Express</td>\n",
       "      <td>Angular</td>\n",
       "    </tr>\n",
       "    <tr>\n",
       "      <th>4</th>\n",
       "      <td>5</td>\n",
       "      <td>33</td>\n",
       "      <td>Express</td>\n",
       "      <td>Angular.js</td>\n",
       "    </tr>\n",
       "    <tr>\n",
       "      <th>...</th>\n",
       "      <td>...</td>\n",
       "      <td>...</td>\n",
       "      <td>...</td>\n",
       "      <td>...</td>\n",
       "    </tr>\n",
       "    <tr>\n",
       "      <th>22789</th>\n",
       "      <td>47562</td>\n",
       "      <td>64938</td>\n",
       "      <td>Django</td>\n",
       "      <td>Django</td>\n",
       "    </tr>\n",
       "    <tr>\n",
       "      <th>22790</th>\n",
       "      <td>47563</td>\n",
       "      <td>64938</td>\n",
       "      <td>Django</td>\n",
       "      <td>Flask</td>\n",
       "    </tr>\n",
       "    <tr>\n",
       "      <th>22791</th>\n",
       "      <td>47564</td>\n",
       "      <td>64938</td>\n",
       "      <td>Django</td>\n",
       "      <td>Ruby on Rails</td>\n",
       "    </tr>\n",
       "    <tr>\n",
       "      <th>22792</th>\n",
       "      <td>47565</td>\n",
       "      <td>64938</td>\n",
       "      <td>Django</td>\n",
       "      <td>jQuery</td>\n",
       "    </tr>\n",
       "    <tr>\n",
       "      <th>22793</th>\n",
       "      <td>47566</td>\n",
       "      <td>64938</td>\n",
       "      <td>Flask</td>\n",
       "      <td>jQuery</td>\n",
       "    </tr>\n",
       "  </tbody>\n",
       "</table>\n",
       "<p>22794 rows × 4 columns</p>\n",
       "</div>"
      ],
      "text/plain": [
       "       Unnamed: 0  Respondent WebframeDesireNextYear WebframeWorkedWith\n",
       "0               0          10                  Flask              Flask\n",
       "1               1          10                  Flask             jQuery\n",
       "2               2          10                 jQuery             jQuery\n",
       "3               4          33                Express            Angular\n",
       "4               5          33                Express         Angular.js\n",
       "...           ...         ...                    ...                ...\n",
       "22789       47562       64938                 Django             Django\n",
       "22790       47563       64938                 Django              Flask\n",
       "22791       47564       64938                 Django      Ruby on Rails\n",
       "22792       47565       64938                 Django             jQuery\n",
       "22793       47566       64938                  Flask             jQuery\n",
       "\n",
       "[22794 rows x 4 columns]"
      ]
     },
     "execution_count": 13,
     "metadata": {},
     "output_type": "execute_result"
    }
   ],
   "source": [
    "df"
   ]
  },
  {
   "cell_type": "code",
   "execution_count": 14,
   "metadata": {},
   "outputs": [],
   "source": [
    "missing_data = df.isnull()"
   ]
  },
  {
   "cell_type": "code",
   "execution_count": 15,
   "metadata": {},
   "outputs": [
    {
     "name": "stdout",
     "output_type": "stream",
     "text": [
      "Unnamed: 0\n",
      "False    22794\n",
      "Name: Unnamed: 0, dtype: int64\n",
      "\n",
      "Respondent\n",
      "False    22794\n",
      "Name: Respondent, dtype: int64\n",
      "\n",
      "WebframeDesireNextYear\n",
      "False    22794\n",
      "Name: WebframeDesireNextYear, dtype: int64\n",
      "\n",
      "WebframeWorkedWith\n",
      "False    22794\n",
      "Name: WebframeWorkedWith, dtype: int64\n",
      "\n"
     ]
    }
   ],
   "source": [
    "for column in missing_data.columns.values.tolist():\n",
    "    print(column)\n",
    "    print (missing_data[column].value_counts())\n",
    "    print(\"\")"
   ]
  },
  {
   "cell_type": "code",
   "execution_count": 16,
   "metadata": {},
   "outputs": [
    {
     "data": {
      "text/plain": [
       "0"
      ]
     },
     "execution_count": 16,
     "metadata": {},
     "output_type": "execute_result"
    }
   ],
   "source": [
    "df.duplicated().sum()"
   ]
  },
  {
   "cell_type": "code",
   "execution_count": 17,
   "metadata": {},
   "outputs": [
    {
     "data": {
      "text/plain": [
       "Unnamed: 0                0\n",
       "Respondent                0\n",
       "WebframeDesireNextYear    0\n",
       "WebframeWorkedWith        0\n",
       "dtype: int64"
      ]
     },
     "execution_count": 17,
     "metadata": {},
     "output_type": "execute_result"
    }
   ],
   "source": [
    "df.isnull().sum()"
   ]
  },
  {
   "cell_type": "code",
   "execution_count": 18,
   "metadata": {},
   "outputs": [
    {
     "data": {
      "text/plain": [
       "Unnamed: 0                 int64\n",
       "Respondent                 int64\n",
       "WebframeDesireNextYear    object\n",
       "WebframeWorkedWith        object\n",
       "dtype: object"
      ]
     },
     "execution_count": 18,
     "metadata": {},
     "output_type": "execute_result"
    }
   ],
   "source": [
    "df.dtypes"
   ]
  },
  {
   "cell_type": "code",
   "execution_count": null,
   "metadata": {},
   "outputs": [],
   "source": [
    "df.to_csv(r\"C:\\Users\\Sett's Wife\\Desktop\\Data Analysis\\Certificates\\IBM Data Analyst Professional Certificate edX\\Course 9 Data Analytics and Visualization Capstone Project\\Module 5 How to Present Your Findings\\Data\\New folder\\Data Wrangling\\panel 4\\Webfr.csv\")"
   ]
  }
 ],
 "metadata": {
  "kernelspec": {
   "display_name": "Python 3",
   "language": "python",
   "name": "python3"
  },
  "language_info": {
   "codemirror_mode": {
    "name": "ipython",
    "version": 3
   },
   "file_extension": ".py",
   "mimetype": "text/x-python",
   "name": "python",
   "nbconvert_exporter": "python",
   "pygments_lexer": "ipython3",
   "version": "3.8.5"
  }
 },
 "nbformat": 4,
 "nbformat_minor": 4
}
